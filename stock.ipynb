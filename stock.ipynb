{
 "cells": [
  {
   "cell_type": "code",
   "execution_count": 1,
   "metadata": {},
   "outputs": [],
   "source": [
    "import numpy as np\n",
    "import math\n",
    "import seaborn as sns\n",
    "from sklearn import svm\n",
    "import matplotlib.pyplot as plt\n",
    "import pandas as pd\n",
    "from sklearn.model_selection import train_test_split\n",
    "from sklearn.preprocessing import StandardScaler\n",
    "from sklearn.model_selection import *\n",
    "from sklearn.preprocessing import MinMaxScaler\n",
    "from sklearn import linear_model\n",
    "from sklearn.metrics import *"
   ]
  },
  {
   "cell_type": "code",
   "execution_count": 2,
   "metadata": {},
   "outputs": [],
   "source": [
    "df = pd.read_csv(\"/home/shubhamsingh/Desktop/stock/data1.csv\", parse_dates = {'dateTime': ['date']}, index_col = 'dateTime')"
   ]
  },
  {
   "cell_type": "code",
   "execution_count": 4,
   "metadata": {
    "scrolled": true
   },
   "outputs": [
    {
     "data": {
      "text/html": [
       "<div>\n",
       "<style scoped>\n",
       "    .dataframe tbody tr th:only-of-type {\n",
       "        vertical-align: middle;\n",
       "    }\n",
       "\n",
       "    .dataframe tbody tr th {\n",
       "        vertical-align: top;\n",
       "    }\n",
       "\n",
       "    .dataframe thead th {\n",
       "        text-align: right;\n",
       "    }\n",
       "</style>\n",
       "<table border=\"1\" class=\"dataframe\">\n",
       "  <thead>\n",
       "    <tr style=\"text-align: right;\">\n",
       "      <th></th>\n",
       "      <th>close</th>\n",
       "      <th>open</th>\n",
       "      <th>high</th>\n",
       "      <th>low</th>\n",
       "      <th>sensex</th>\n",
       "      <th>nifty</th>\n",
       "      <th>usd</th>\n",
       "      <th>hangseng</th>\n",
       "    </tr>\n",
       "    <tr>\n",
       "      <th>dateTime</th>\n",
       "      <th></th>\n",
       "      <th></th>\n",
       "      <th></th>\n",
       "      <th></th>\n",
       "      <th></th>\n",
       "      <th></th>\n",
       "      <th></th>\n",
       "      <th></th>\n",
       "    </tr>\n",
       "  </thead>\n",
       "  <tbody>\n",
       "    <tr>\n",
       "      <th>2019-12-02</th>\n",
       "      <td>750.400024</td>\n",
       "      <td>763.000000</td>\n",
       "      <td>763.000000</td>\n",
       "      <td>741.000000</td>\n",
       "      <td>36405.71875</td>\n",
       "      <td>10879.70020</td>\n",
       "      <td>70.535</td>\n",
       "      <td>28171.33</td>\n",
       "    </tr>\n",
       "    <tr>\n",
       "      <th>2019-11-02</th>\n",
       "      <td>761.599976</td>\n",
       "      <td>760.000000</td>\n",
       "      <td>768.650024</td>\n",
       "      <td>757.549988</td>\n",
       "      <td>36585.50000</td>\n",
       "      <td>10930.90039</td>\n",
       "      <td>71.140</td>\n",
       "      <td>28143.84</td>\n",
       "    </tr>\n",
       "    <tr>\n",
       "      <th>2019-08-02</th>\n",
       "      <td>759.849976</td>\n",
       "      <td>764.000000</td>\n",
       "      <td>771.150024</td>\n",
       "      <td>755.099976</td>\n",
       "      <td>36873.58984</td>\n",
       "      <td>11023.50000</td>\n",
       "      <td>71.160</td>\n",
       "      <td>27946.32</td>\n",
       "    </tr>\n",
       "    <tr>\n",
       "      <th>2019-07-02</th>\n",
       "      <td>763.349976</td>\n",
       "      <td>761.099976</td>\n",
       "      <td>769.500000</td>\n",
       "      <td>760.650024</td>\n",
       "      <td>37026.55859</td>\n",
       "      <td>11070.45020</td>\n",
       "      <td>71.175</td>\n",
       "      <td>27990.21</td>\n",
       "    </tr>\n",
       "    <tr>\n",
       "      <th>2019-06-02</th>\n",
       "      <td>762.650024</td>\n",
       "      <td>754.250000</td>\n",
       "      <td>766.150024</td>\n",
       "      <td>753.799988</td>\n",
       "      <td>36714.53906</td>\n",
       "      <td>10965.09961</td>\n",
       "      <td>71.300</td>\n",
       "      <td>27930.74</td>\n",
       "    </tr>\n",
       "  </tbody>\n",
       "</table>\n",
       "</div>"
      ],
      "text/plain": [
       "                 close        open        high         low       sensex  \\\n",
       "dateTime                                                                  \n",
       "2019-12-02  750.400024  763.000000  763.000000  741.000000  36405.71875   \n",
       "2019-11-02  761.599976  760.000000  768.650024  757.549988  36585.50000   \n",
       "2019-08-02  759.849976  764.000000  771.150024  755.099976  36873.58984   \n",
       "2019-07-02  763.349976  761.099976  769.500000  760.650024  37026.55859   \n",
       "2019-06-02  762.650024  754.250000  766.150024  753.799988  36714.53906   \n",
       "\n",
       "                  nifty     usd  hangseng  \n",
       "dateTime                                   \n",
       "2019-12-02  10879.70020  70.535  28171.33  \n",
       "2019-11-02  10930.90039  71.140  28143.84  \n",
       "2019-08-02  11023.50000  71.160  27946.32  \n",
       "2019-07-02  11070.45020  71.175  27990.21  \n",
       "2019-06-02  10965.09961  71.300  27930.74  "
      ]
     },
     "execution_count": 4,
     "metadata": {},
     "output_type": "execute_result"
    }
   ],
   "source": [
    "df.head()"
   ]
  },
  {
   "cell_type": "code",
   "execution_count": 5,
   "metadata": {},
   "outputs": [],
   "source": [
    "df.sort_index(axis=0, inplace=True)"
   ]
  },
  {
   "cell_type": "code",
   "execution_count": 6,
   "metadata": {},
   "outputs": [],
   "source": [
    "X = df[['open', 'high', 'low', 'sensex', 'nifty', 'usd', 'hangseng']]\n",
    "y = df[['close']]"
   ]
  },
  {
   "cell_type": "code",
   "execution_count": 7,
   "metadata": {},
   "outputs": [],
   "source": [
    "X_train, X_test, y_train, y_test = train_test_split(X, y, test_size=0.2)"
   ]
  },
  {
   "cell_type": "code",
   "execution_count": 8,
   "metadata": {},
   "outputs": [],
   "source": [
    "scalerX = StandardScaler().fit(X_train)"
   ]
  },
  {
   "cell_type": "code",
   "execution_count": 9,
   "metadata": {},
   "outputs": [],
   "source": [
    "scalery = StandardScaler().fit(y_train)"
   ]
  },
  {
   "cell_type": "code",
   "execution_count": 10,
   "metadata": {},
   "outputs": [],
   "source": [
    "X_train = scalerX.transform(X_train)\n",
    "y_train = scalery.transform(y_train)\n",
    "X_test = scalerX.transform(X_test)\n",
    "y_test = scalery.transform(y_test)"
   ]
  },
  {
   "cell_type": "code",
   "execution_count": 11,
   "metadata": {},
   "outputs": [
    {
     "name": "stdout",
     "output_type": "stream",
     "text": [
      "Test Score: 2.35 RMSE\n"
     ]
    },
    {
     "data": {
      "text/plain": [
       "0.999519172782721"
      ]
     },
     "execution_count": 11,
     "metadata": {},
     "output_type": "execute_result"
    }
   ],
   "source": [
    "reg = linear_model.LinearRegression()\n",
    "reg.fit(X_train,y_train)\n",
    "testPredicted = reg.predict(X_test)\n",
    "testScore = math.sqrt(mean_squared_error(scalery.inverse_transform(y_test), scalery.inverse_transform(testPredicted)))\n",
    "print('Test Score: %.2f RMSE' % (testScore))\n",
    "reg.score(X_test, y_test)"
   ]
  },
  {
   "cell_type": "code",
   "execution_count": 19,
   "metadata": {},
   "outputs": [],
   "source": [
    "from sklearn.ensemble import RandomForestRegressor"
   ]
  },
  {
   "cell_type": "code",
   "execution_count": 12,
   "metadata": {},
   "outputs": [
    {
     "data": {
      "text/plain": [
       "array([0.99947124, 0.99940973, 0.99938457, 0.99925782, 0.99948387,\n",
       "       0.99935749, 0.99975565, 0.99967633, 0.9996862 , 0.99932874])"
      ]
     },
     "execution_count": 12,
     "metadata": {},
     "output_type": "execute_result"
    }
   ],
   "source": [
    "cross_val_score(reg, X_test, y_test, cv = 10)"
   ]
  },
  {
   "cell_type": "code",
   "execution_count": 14,
   "metadata": {},
   "outputs": [
    {
     "data": {
      "image/png": "[encoded data removed]",
      "text/plain": [
       "<Figure size 432x288 with 1 Axes>"
      ]
     },
     "metadata": {
      "needs_background": "light"
     },
     "output_type": "display_data"
    }
   ],
   "source": [
    "plt.plot(scalery.inverse_transform(y_test))\n",
    "plt.plot(scalery.inverse_transform(testPredicted))\n",
    "plt.show()"
   ]
  }
 ],
 "metadata": {
  "kernelspec": {
   "display_name": "Python 3",
   "language": "python",
   "name": "python3"
  },
  "language_info": {
   "codemirror_mode": {
    "name": "ipython",
    "version": 2
   },
   "file_extension": ".py",
   "mimetype": "text/x-python",
   "name": "python",
   "nbconvert_exporter": "python",
   "pygments_lexer": "ipython2",
   "version": "2.7.15rc1"
  }
 },
 "nbformat": 4,
 "nbformat_minor": 2
}
